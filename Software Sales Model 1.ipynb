{
 "cells": [
  {
   "cell_type": "code",
   "execution_count": 2,
   "id": "a5a4986b",
   "metadata": {},
   "outputs": [],
   "source": [
    "import pandas as pd\n",
    "sales = pd.read_csv('C:/Users/alexk/OneDrive/Desktop/Python Tings/Projects/LicenseModel.csv')"
   ]
  },
  {
   "cell_type": "markdown",
   "id": "d87d9970",
   "metadata": {},
   "source": [
    "The file is imported and inspected for null values data types. "
   ]
  },
  {
   "cell_type": "code",
   "execution_count": 9,
   "id": "4e0d8d18",
   "metadata": {},
   "outputs": [
    {
     "data": {
      "text/html": [
       "<div>\n",
       "<style scoped>\n",
       "    .dataframe tbody tr th:only-of-type {\n",
       "        vertical-align: middle;\n",
       "    }\n",
       "\n",
       "    .dataframe tbody tr th {\n",
       "        vertical-align: top;\n",
       "    }\n",
       "\n",
       "    .dataframe thead th {\n",
       "        text-align: right;\n",
       "    }\n",
       "</style>\n",
       "<table border=\"1\" class=\"dataframe\">\n",
       "  <thead>\n",
       "    <tr style=\"text-align: right;\">\n",
       "      <th></th>\n",
       "      <th>Price</th>\n",
       "      <th>Tier</th>\n",
       "      <th>License</th>\n",
       "      <th>Revenue</th>\n",
       "    </tr>\n",
       "  </thead>\n",
       "  <tbody>\n",
       "    <tr>\n",
       "      <th>0</th>\n",
       "      <td>1623</td>\n",
       "      <td>TierII</td>\n",
       "      <td>1.0</td>\n",
       "      <td>1623.0</td>\n",
       "    </tr>\n",
       "    <tr>\n",
       "      <th>1</th>\n",
       "      <td>1623</td>\n",
       "      <td>TierII</td>\n",
       "      <td>1.0</td>\n",
       "      <td>1623.0</td>\n",
       "    </tr>\n",
       "    <tr>\n",
       "      <th>2</th>\n",
       "      <td>1623</td>\n",
       "      <td>TierII</td>\n",
       "      <td>1.0</td>\n",
       "      <td>1623.0</td>\n",
       "    </tr>\n",
       "    <tr>\n",
       "      <th>3</th>\n",
       "      <td>1623</td>\n",
       "      <td>TierII</td>\n",
       "      <td>1.0</td>\n",
       "      <td>1623.0</td>\n",
       "    </tr>\n",
       "    <tr>\n",
       "      <th>4</th>\n",
       "      <td>1623</td>\n",
       "      <td>TierII</td>\n",
       "      <td>1.0</td>\n",
       "      <td>1623.0</td>\n",
       "    </tr>\n",
       "  </tbody>\n",
       "</table>\n",
       "</div>"
      ],
      "text/plain": [
       "   Price    Tier  License  Revenue\n",
       "0   1623  TierII      1.0   1623.0\n",
       "1   1623  TierII      1.0   1623.0\n",
       "2   1623  TierII      1.0   1623.0\n",
       "3   1623  TierII      1.0   1623.0\n",
       "4   1623  TierII      1.0   1623.0"
      ]
     },
     "execution_count": 9,
     "metadata": {},
     "output_type": "execute_result"
    }
   ],
   "source": [
    "import seaborn as sns\n",
    "import numpy as np\n",
    "import matplotlib.pyplot as plt\n",
    "%matplotlib inLine\n",
    "sns.set_palette('deep')\n",
    "sales.head()"
   ]
  },
  {
   "cell_type": "code",
   "execution_count": 3,
   "id": "de884889",
   "metadata": {},
   "outputs": [
    {
     "data": {
      "text/plain": [
       "Price        int64\n",
       "Tier        object\n",
       "License    float64\n",
       "Revenue    float64\n",
       "dtype: object"
      ]
     },
     "execution_count": 3,
     "metadata": {},
     "output_type": "execute_result"
    }
   ],
   "source": [
    "sales.dtypes"
   ]
  },
  {
   "cell_type": "code",
   "execution_count": 4,
   "id": "0a6472e7",
   "metadata": {},
   "outputs": [
    {
     "data": {
      "text/plain": [
       "Price      False\n",
       "Tier       False\n",
       "License    False\n",
       "Revenue    False\n",
       "dtype: bool"
      ]
     },
     "execution_count": 4,
     "metadata": {},
     "output_type": "execute_result"
    }
   ],
   "source": [
    "sales.isnull().any()"
   ]
  },
  {
   "cell_type": "markdown",
   "id": "3a87dea9",
   "metadata": {},
   "source": [
    "## Data Exploration"
   ]
  },
  {
   "cell_type": "code",
   "execution_count": 6,
   "id": "0a63135a",
   "metadata": {},
   "outputs": [
    {
     "data": {
      "text/plain": [
       "<seaborn.axisgrid.FacetGrid at 0x1dfc10ad370>"
      ]
     },
     "execution_count": 6,
     "metadata": {},
     "output_type": "execute_result"
    },
    {
     "data": {
      "image/png": "[encoded data removed]",
      "text/plain": [
       "<Figure size 420.625x360 with 1 Axes>"
      ]
     },
     "metadata": {
      "needs_background": "light"
     },
     "output_type": "display_data"
    }
   ],
   "source": [
    "sns.lmplot(data=sales, x=\"License\", y=\"Revenue\", logx=False,hue='Tier')"
   ]
  },
  {
   "cell_type": "code",
   "execution_count": 7,
   "id": "7f76ca78",
   "metadata": {},
   "outputs": [
    {
     "data": {
      "text/plain": [
       "<seaborn.axisgrid.FacetGrid at 0x1dfc6f44b50>"
      ]
     },
     "execution_count": 7,
     "metadata": {},
     "output_type": "execute_result"
    },
    {
     "data": {
      "image/png": "[encoded data removed]",
      "text/plain": [
       "<Figure size 421.5x360 with 1 Axes>"
      ]
     },
     "metadata": {
      "needs_background": "light"
     },
     "output_type": "display_data"
    }
   ],
   "source": [
    "sns.lmplot(data=sales, x=\"License\", y=\"Revenue\", hue='Price')"
   ]
  },
  {
   "cell_type": "markdown",
   "id": "2c9dcbe5",
   "metadata": {},
   "source": [
    "### Notes"
   ]
  },
  {
   "cell_type": "markdown",
   "id": "2f09aaed",
   "metadata": {},
   "source": [
    "The two drivers for the revenue model is price and number of licenses. Reviewing the first scatter plot of revenue against licenses highlighting the two tiers, a linear trend can be identified with Tier II with some variation. Tier I does not follow a linear pattern as there is a special pricing structure. This relationship may be better captured with a polynomial regression with variables transformed to capture the growth decay. "
   ]
  },
  {
   "cell_type": "markdown",
   "id": "2b8409e4",
   "metadata": {},
   "source": [
    "The data will be broken out by tier to model the datasets seperately."
   ]
  },
  {
   "cell_type": "code",
   "execution_count": 3,
   "id": "7be9d2b3",
   "metadata": {},
   "outputs": [],
   "source": [
    "salesT1, salesT2 = sales.query(\"Tier == 'TierI'\").copy(), sales.query(\"Tier == 'TierII'\").copy()"
   ]
  },
  {
   "cell_type": "code",
   "execution_count": 9,
   "id": "e18d5fd8",
   "metadata": {},
   "outputs": [
    {
     "data": {
      "text/html": [
       "<div>\n",
       "<style scoped>\n",
       "    .dataframe tbody tr th:only-of-type {\n",
       "        vertical-align: middle;\n",
       "    }\n",
       "\n",
       "    .dataframe tbody tr th {\n",
       "        vertical-align: top;\n",
       "    }\n",
       "\n",
       "    .dataframe thead th {\n",
       "        text-align: right;\n",
       "    }\n",
       "</style>\n",
       "<table border=\"1\" class=\"dataframe\">\n",
       "  <thead>\n",
       "    <tr style=\"text-align: right;\">\n",
       "      <th></th>\n",
       "      <th>Price</th>\n",
       "      <th>Tier</th>\n",
       "      <th>License</th>\n",
       "      <th>Revenue</th>\n",
       "    </tr>\n",
       "  </thead>\n",
       "  <tbody>\n",
       "    <tr>\n",
       "      <th>14451</th>\n",
       "      <td>1362</td>\n",
       "      <td>TierI</td>\n",
       "      <td>4.0</td>\n",
       "      <td>5448.0</td>\n",
       "    </tr>\n",
       "    <tr>\n",
       "      <th>77378</th>\n",
       "      <td>1623</td>\n",
       "      <td>TierI</td>\n",
       "      <td>12.0</td>\n",
       "      <td>16065.0</td>\n",
       "    </tr>\n",
       "    <tr>\n",
       "      <th>79797</th>\n",
       "      <td>1623</td>\n",
       "      <td>TierI</td>\n",
       "      <td>12.0</td>\n",
       "      <td>16065.0</td>\n",
       "    </tr>\n",
       "    <tr>\n",
       "      <th>43567</th>\n",
       "      <td>1629</td>\n",
       "      <td>TierI</td>\n",
       "      <td>6.0</td>\n",
       "      <td>9774.0</td>\n",
       "    </tr>\n",
       "    <tr>\n",
       "      <th>14749</th>\n",
       "      <td>1362</td>\n",
       "      <td>TierI</td>\n",
       "      <td>4.0</td>\n",
       "      <td>5448.0</td>\n",
       "    </tr>\n",
       "    <tr>\n",
       "      <th>...</th>\n",
       "      <td>...</td>\n",
       "      <td>...</td>\n",
       "      <td>...</td>\n",
       "      <td>...</td>\n",
       "    </tr>\n",
       "    <tr>\n",
       "      <th>75513</th>\n",
       "      <td>1623</td>\n",
       "      <td>TierI</td>\n",
       "      <td>16.0</td>\n",
       "      <td>16065.0</td>\n",
       "    </tr>\n",
       "    <tr>\n",
       "      <th>78076</th>\n",
       "      <td>1623</td>\n",
       "      <td>TierI</td>\n",
       "      <td>16.0</td>\n",
       "      <td>16065.0</td>\n",
       "    </tr>\n",
       "    <tr>\n",
       "      <th>43156</th>\n",
       "      <td>1629</td>\n",
       "      <td>TierI</td>\n",
       "      <td>6.0</td>\n",
       "      <td>9774.0</td>\n",
       "    </tr>\n",
       "    <tr>\n",
       "      <th>76977</th>\n",
       "      <td>1623</td>\n",
       "      <td>TierI</td>\n",
       "      <td>10.0</td>\n",
       "      <td>16065.0</td>\n",
       "    </tr>\n",
       "    <tr>\n",
       "      <th>7734</th>\n",
       "      <td>1623</td>\n",
       "      <td>TierI</td>\n",
       "      <td>3.0</td>\n",
       "      <td>4869.0</td>\n",
       "    </tr>\n",
       "  </tbody>\n",
       "</table>\n",
       "<p>219 rows × 4 columns</p>\n",
       "</div>"
      ],
      "text/plain": [
       "       Price   Tier  License  Revenue\n",
       "14451   1362  TierI      4.0   5448.0\n",
       "77378   1623  TierI     12.0  16065.0\n",
       "79797   1623  TierI     12.0  16065.0\n",
       "43567   1629  TierI      6.0   9774.0\n",
       "14749   1362  TierI      4.0   5448.0\n",
       "...      ...    ...      ...      ...\n",
       "75513   1623  TierI     16.0  16065.0\n",
       "78076   1623  TierI     16.0  16065.0\n",
       "43156   1629  TierI      6.0   9774.0\n",
       "76977   1623  TierI     10.0  16065.0\n",
       "7734    1623  TierI      3.0   4869.0\n",
       "\n",
       "[219 rows x 4 columns]"
      ]
     },
     "execution_count": 9,
     "metadata": {},
     "output_type": "execute_result"
    }
   ],
   "source": [
    "salesT1.sample(frac=0.01)"
   ]
  },
  {
   "cell_type": "code",
   "execution_count": 10,
   "id": "f9230bc7",
   "metadata": {},
   "outputs": [
    {
     "data": {
      "text/html": [
       "<div>\n",
       "<style scoped>\n",
       "    .dataframe tbody tr th:only-of-type {\n",
       "        vertical-align: middle;\n",
       "    }\n",
       "\n",
       "    .dataframe tbody tr th {\n",
       "        vertical-align: top;\n",
       "    }\n",
       "\n",
       "    .dataframe thead th {\n",
       "        text-align: right;\n",
       "    }\n",
       "</style>\n",
       "<table border=\"1\" class=\"dataframe\">\n",
       "  <thead>\n",
       "    <tr style=\"text-align: right;\">\n",
       "      <th></th>\n",
       "      <th>Price</th>\n",
       "      <th>Tier</th>\n",
       "      <th>License</th>\n",
       "      <th>Revenue</th>\n",
       "    </tr>\n",
       "  </thead>\n",
       "  <tbody>\n",
       "    <tr>\n",
       "      <th>96959</th>\n",
       "      <td>1623</td>\n",
       "      <td>TierII</td>\n",
       "      <td>12.00</td>\n",
       "      <td>19476.00</td>\n",
       "    </tr>\n",
       "    <tr>\n",
       "      <th>22113</th>\n",
       "      <td>1623</td>\n",
       "      <td>TierII</td>\n",
       "      <td>6.00</td>\n",
       "      <td>9738.00</td>\n",
       "    </tr>\n",
       "    <tr>\n",
       "      <th>8088</th>\n",
       "      <td>1623</td>\n",
       "      <td>TierII</td>\n",
       "      <td>3.00</td>\n",
       "      <td>4869.00</td>\n",
       "    </tr>\n",
       "    <tr>\n",
       "      <th>112149</th>\n",
       "      <td>1623</td>\n",
       "      <td>TierII</td>\n",
       "      <td>15.25</td>\n",
       "      <td>24750.75</td>\n",
       "    </tr>\n",
       "    <tr>\n",
       "      <th>89202</th>\n",
       "      <td>1623</td>\n",
       "      <td>TierII</td>\n",
       "      <td>12.00</td>\n",
       "      <td>19476.00</td>\n",
       "    </tr>\n",
       "    <tr>\n",
       "      <th>...</th>\n",
       "      <td>...</td>\n",
       "      <td>...</td>\n",
       "      <td>...</td>\n",
       "      <td>...</td>\n",
       "    </tr>\n",
       "    <tr>\n",
       "      <th>21682</th>\n",
       "      <td>1623</td>\n",
       "      <td>TierII</td>\n",
       "      <td>6.00</td>\n",
       "      <td>9738.00</td>\n",
       "    </tr>\n",
       "    <tr>\n",
       "      <th>22695</th>\n",
       "      <td>1623</td>\n",
       "      <td>TierII</td>\n",
       "      <td>6.00</td>\n",
       "      <td>9738.00</td>\n",
       "    </tr>\n",
       "    <tr>\n",
       "      <th>83380</th>\n",
       "      <td>1623</td>\n",
       "      <td>TierII</td>\n",
       "      <td>10.00</td>\n",
       "      <td>16230.00</td>\n",
       "    </tr>\n",
       "    <tr>\n",
       "      <th>101583</th>\n",
       "      <td>1623</td>\n",
       "      <td>TierII</td>\n",
       "      <td>13.00</td>\n",
       "      <td>21099.00</td>\n",
       "    </tr>\n",
       "    <tr>\n",
       "      <th>97754</th>\n",
       "      <td>1623</td>\n",
       "      <td>TierII</td>\n",
       "      <td>12.00</td>\n",
       "      <td>19476.00</td>\n",
       "    </tr>\n",
       "  </tbody>\n",
       "</table>\n",
       "<p>942 rows × 4 columns</p>\n",
       "</div>"
      ],
      "text/plain": [
       "        Price    Tier  License   Revenue\n",
       "96959    1623  TierII    12.00  19476.00\n",
       "22113    1623  TierII     6.00   9738.00\n",
       "8088     1623  TierII     3.00   4869.00\n",
       "112149   1623  TierII    15.25  24750.75\n",
       "89202    1623  TierII    12.00  19476.00\n",
       "...       ...     ...      ...       ...\n",
       "21682    1623  TierII     6.00   9738.00\n",
       "22695    1623  TierII     6.00   9738.00\n",
       "83380    1623  TierII    10.00  16230.00\n",
       "101583   1623  TierII    13.00  21099.00\n",
       "97754    1623  TierII    12.00  19476.00\n",
       "\n",
       "[942 rows x 4 columns]"
      ]
     },
     "execution_count": 10,
     "metadata": {},
     "output_type": "execute_result"
    }
   ],
   "source": [
    "salesT2.sample(frac=0.01)"
   ]
  },
  {
   "cell_type": "markdown",
   "id": "e81db909",
   "metadata": {},
   "source": [
    "Below are simple regression lines on licenses and revenue separated by Tier. A Log transformation on TierI shows a slight improvement, but further transformations should be considered. "
   ]
  },
  {
   "cell_type": "code",
   "execution_count": 12,
   "id": "a0dd947a",
   "metadata": {
    "scrolled": false
   },
   "outputs": [
    {
     "data": {
      "text/plain": [
       "<seaborn.axisgrid.FacetGrid at 0x1dfc884f250>"
      ]
     },
     "execution_count": 12,
     "metadata": {},
     "output_type": "execute_result"
    },
    {
     "data": {
      "image/png": "[encoded data removed]",
      "text/plain": [
       "<Figure size 360x360 with 1 Axes>"
      ]
     },
     "metadata": {
      "needs_background": "light"
     },
     "output_type": "display_data"
    }
   ],
   "source": [
    "sns.lmplot(data=salesT2, x=\"License\", y=\"Revenue\")\n"
   ]
  },
  {
   "cell_type": "code",
   "execution_count": 13,
   "id": "f7be88be",
   "metadata": {
    "scrolled": true
   },
   "outputs": [
    {
     "data": {
      "text/plain": [
       "<seaborn.axisgrid.FacetGrid at 0x1dfc6d2bb20>"
      ]
     },
     "execution_count": 13,
     "metadata": {},
     "output_type": "execute_result"
    },
    {
     "data": {
      "image/png": "[encoded data removed]",
      "text/plain": [
       "<Figure size 360x360 with 1 Axes>"
      ]
     },
     "metadata": {
      "needs_background": "light"
     },
     "output_type": "display_data"
    }
   ],
   "source": [
    "sns.lmplot(data=salesT1, x=\"License\", y=\"Revenue\", logx=True)"
   ]
  },
  {
   "cell_type": "markdown",
   "id": "b23f446c",
   "metadata": {},
   "source": [
    "## Tier II Mutliple Linear Regression Model"
   ]
  },
  {
   "cell_type": "code",
   "execution_count": 4,
   "id": "27622e54",
   "metadata": {},
   "outputs": [],
   "source": [
    "#Define the indpendent and dependent variables\n",
    "XT2 = salesT2.drop(['Revenue', 'Tier'], axis=1)\n",
    "yT2 = salesT2['Revenue']"
   ]
  },
  {
   "cell_type": "code",
   "execution_count": 5,
   "id": "771018b5",
   "metadata": {},
   "outputs": [],
   "source": [
    "#Split the data 80% used to train the model and 20% used to test the model\n",
    "from sklearn.model_selection import train_test_split\n",
    "X_train, X_test, y_train, y_test = train_test_split(XT2, yT2, test_size=0.2, random_state=0)"
   ]
  },
  {
   "cell_type": "code",
   "execution_count": 6,
   "id": "c3d17d31",
   "metadata": {},
   "outputs": [
    {
     "data": {
      "text/plain": [
       "LinearRegression()"
      ]
     },
     "execution_count": 6,
     "metadata": {},
     "output_type": "execute_result"
    }
   ],
   "source": [
    "from sklearn.linear_model import LinearRegression \n",
    "salesT2_regressor = LinearRegression()\n",
    "salesT2_regressor.fit(X_train,y_train)"
   ]
  },
  {
   "cell_type": "markdown",
   "id": "ddc6d37b",
   "metadata": {},
   "source": [
    "Ordinary Least Squares Regression Results to see R-squared and p-values of the independent variables and the coefficients. The weight of the coefficient determines the variable's impact. P-values less than 0.05 are significant and aid in prediction of the  target. The null hypothesis that all coefficients are equal to zero is rejected and the alternative hypothesis is accepted in this case. The large F-statistic also provides evidence in favor of the alternative hypothesis."
   ]
  },
  {
   "cell_type": "code",
   "execution_count": 19,
   "id": "30f0a098",
   "metadata": {},
   "outputs": [
    {
     "name": "stdout",
     "output_type": "stream",
     "text": [
      "                            OLS Regression Results                            \n",
      "==============================================================================\n",
      "Dep. Variable:                Revenue   R-squared:                       0.990\n",
      "Model:                            OLS   Adj. R-squared:                  0.990\n",
      "Method:                 Least Squares   F-statistic:                 3.753e+06\n",
      "Date:                Wed, 04 Jan 2023   Prob (F-statistic):               0.00\n",
      "Time:                        12:04:29   Log-Likelihood:            -5.9302e+05\n",
      "No. Observations:               75337   AIC:                         1.186e+06\n",
      "Df Residuals:                   75334   BIC:                         1.186e+06\n",
      "Df Model:                           2                                         \n",
      "Covariance Type:            nonrobust                                         \n",
      "==============================================================================\n",
      "                 coef    std err          t      P>|t|      [0.025      0.975]\n",
      "------------------------------------------------------------------------------\n",
      "const      -1.137e+04    171.792    -66.174      0.000   -1.17e+04    -1.1e+04\n",
      "Price          7.0212      0.106     66.367      0.000       6.814       7.229\n",
      "License     1615.4050      0.590   2739.244      0.000    1614.249    1616.561\n",
      "==============================================================================\n",
      "Omnibus:                   138000.360   Durbin-Watson:                   2.008\n",
      "Prob(Omnibus):                  0.000   Jarque-Bera (JB):        803900613.937\n",
      "Skew:                         -13.065   Prob(JB):                         0.00\n",
      "Kurtosis:                     508.386   Cond. No.                     1.21e+05\n",
      "==============================================================================\n",
      "\n",
      "Notes:\n",
      "[1] Standard Errors assume that the covariance matrix of the errors is correctly specified.\n",
      "[2] The condition number is large, 1.21e+05. This might indicate that there are\n",
      "strong multicollinearity or other numerical problems.\n"
     ]
    }
   ],
   "source": [
    "import statsmodels.api as sm\n",
    "X_train2 = sm.add_constant(X_train) #This will apply an intercept to the model\n",
    "est = sm.OLS(y_train, X_train2) #OLS to fit linerar regression model on the training set\n",
    "est2 = est.fit()\n",
    "print(est2.summary())"
   ]
  },
  {
   "cell_type": "markdown",
   "id": "f223955c",
   "metadata": {},
   "source": [
    "Now we will evaluate the perfomance of the linear regression on the training and test set."
   ]
  },
  {
   "cell_type": "code",
   "execution_count": 7,
   "id": "1a22961f",
   "metadata": {},
   "outputs": [],
   "source": [
    "y_train_pred = salesT2_regressor.predict(X_train) #Make prediction on training set \n",
    "y_test_pred = salesT2_regressor.predict(X_test) #Make prediction on test set \n"
   ]
  },
  {
   "cell_type": "markdown",
   "id": "8a9ccc1e",
   "metadata": {},
   "source": [
    "We compare the actual value and the predicted value of target variable.\n",
    "Differences are the residuals to evaluate performance."
   ]
  },
  {
   "cell_type": "code",
   "execution_count": 10,
   "id": "ad47542e",
   "metadata": {},
   "outputs": [
    {
     "data": {
      "image/png": "[encoded data removed]",
      "text/plain": [
       "<Figure size 720x576 with 1 Axes>"
      ]
     },
     "metadata": {
      "needs_background": "light"
     },
     "output_type": "display_data"
    }
   ],
   "source": [
    "plt.figure(figsize = (10,8))\n",
    "plt.scatter(y_train_pred, y_train_pred-y_train,c='steelblue',marker ='o', label='Training Data') \n",
    "plt.scatter(y_test_pred, y_test_pred-y_test,c='limegreen',marker ='s', label='Test Data')\n",
    "plt.xlabel(\"Predicted Values\")\n",
    "plt.ylabel(\"Residuals\")\n",
    "plt.legend(loc='upper right')\n",
    "plt.hlines(y=0, xmin=200, xmax=60000, color='black',lw=2) #create a line to pass through x axis equal to zero\n",
    "plt.show()"
   ]
  },
  {
   "cell_type": "markdown",
   "id": "77e0213a",
   "metadata": {},
   "source": [
    "#### Results"
   ]
  },
  {
   "cell_type": "markdown",
   "id": "034922f1",
   "metadata": {},
   "source": [
    "The Plot of Residuals should show randomly scattered residuals. The apparent fan shape indicates there variability not being captured by the two feature variables Price and License count. The observations that do not follow the standard pricing schedule should be reviewed for promotion pricing or discounts. Notably however, a vast majority of predicted values were captured from the regression line.\n",
    "\n"
   ]
  },
  {
   "cell_type": "markdown",
   "id": "9effb674",
   "metadata": {},
   "source": [
    "Performance indicators to review are Mean Absolute Error (MAE), Mean Squared Error (MSE), and Root Mean Squared Error (RMSE). MAE does not punish for large errors when there are few in comparison to the total population. MSE and RMSE do punish for large errors. MAE and RMSE can be compared to the average value target variable y. "
   ]
  },
  {
   "cell_type": "markdown",
   "id": "34514b28",
   "metadata": {},
   "source": [
    "We also want to see the errors close in measurement on both training and test data. If the errors are significantly higher on the test data, it indicates the model overfit on training and will not perform well when new data is introduced."
   ]
  },
  {
   "cell_type": "code",
   "execution_count": 23,
   "id": "d31f0d67",
   "metadata": {},
   "outputs": [
    {
     "name": "stdout",
     "output_type": "stream",
     "text": [
      "MAE on Test Data 90.3720689203852\n",
      "MAE on Training Data 87.2999737615722\n",
      "MSE on Test Data 397606.936566013\n",
      "MSE on Training Data 402452.52904845594\n",
      "RMSE on Test Data 630.5608111562382\n",
      "RMSE on Training Data 634.3914635683994\n"
     ]
    }
   ],
   "source": [
    "from sklearn import metrics\n",
    "import numpy as np\n",
    "print('MAE on Test Data',metrics.mean_absolute_error(y_test, y_test_pred))\n",
    "print('MAE on Training Data',metrics.mean_absolute_error(y_train, y_train_pred))\n",
    " \n",
    "\n",
    "print('MSE on Test Data',metrics.mean_squared_error(y_test, y_test_pred))\n",
    "print('MSE on Training Data',metrics.mean_squared_error(y_train, y_train_pred))\n",
    "\n",
    "print('RMSE on Test Data',np.sqrt(metrics.mean_squared_error(y_test, y_test_pred)))\n",
    "print('RMSE on Training Data',np.sqrt(metrics.mean_squared_error(y_train, y_train_pred)))\n",
    "\n",
    "#We see the errors are close on training and on test set."
   ]
  },
  {
   "cell_type": "markdown",
   "id": "931683f8",
   "metadata": {},
   "source": [
    "Next is to compare R squared value between training and test sets. R squared describes how much variability is explained by the predictor variables."
   ]
  },
  {
   "cell_type": "code",
   "execution_count": 24,
   "id": "985c3ced",
   "metadata": {},
   "outputs": [
    {
     "name": "stdout",
     "output_type": "stream",
     "text": [
      "R Squared on Test Set: 0.9901770924675778\n",
      "R Squared on Training Set: 0.9900623423388302\n"
     ]
    }
   ],
   "source": [
    "from sklearn.metrics import r2_score\n",
    "r_sq_test = r2_score(y_test, y_test_pred)\n",
    "r_sq_train = r2_score(y_train, y_train_pred)\n",
    "print(\"R Squared on Test Set:\", r_sq_test)\n",
    "print(\"R Squared on Training Set:\", r_sq_train)\n"
   ]
  },
  {
   "cell_type": "markdown",
   "id": "e42786b1",
   "metadata": {},
   "source": [
    "#### Results"
   ]
  },
  {
   "cell_type": "markdown",
   "id": "7b60bee3",
   "metadata": {},
   "source": [
    "We see R Squared is large on both the training and test set of the data with an average prediction error of 90.4. We can calculate the average error percentage at 0.631%."
   ]
  },
  {
   "cell_type": "code",
   "execution_count": 27,
   "id": "334eac75",
   "metadata": {},
   "outputs": [
    {
     "data": {
      "text/plain": [
       "13842.288538312867"
      ]
     },
     "execution_count": 27,
     "metadata": {},
     "output_type": "execute_result"
    }
   ],
   "source": [
    "salesT2[\"Revenue\"].mean()"
   ]
  },
  {
   "cell_type": "code",
   "execution_count": 28,
   "id": "85f139ae",
   "metadata": {},
   "outputs": [
    {
     "data": {
      "text/plain": [
       "0.006306758706838266"
      ]
     },
     "execution_count": 28,
     "metadata": {},
     "output_type": "execute_result"
    }
   ],
   "source": [
    "#Error percentage\n",
    "metrics.mean_absolute_error(y_train, y_train_pred)/salesT2[\"Revenue\"].mean()"
   ]
  },
  {
   "cell_type": "markdown",
   "id": "bf6e76c4",
   "metadata": {},
   "source": [
    "## Tier I Model Linear Regression "
   ]
  },
  {
   "cell_type": "code",
   "execution_count": 11,
   "id": "c9e39400",
   "metadata": {},
   "outputs": [],
   "source": [
    "#Define the independent and dependent variables\n",
    "XT1 = salesT1.drop(['Revenue', 'Tier'], axis=1)\n",
    "yT1 = salesT1['Revenue']"
   ]
  },
  {
   "cell_type": "code",
   "execution_count": 35,
   "id": "3a6248e7",
   "metadata": {},
   "outputs": [],
   "source": [
    "#Split training and test data\n",
    "from sklearn.model_selection import train_test_split\n",
    "X_train, X_test, y_train, y_test = train_test_split(XT1, yT1, test_size=0.2, random_state=0)"
   ]
  },
  {
   "cell_type": "code",
   "execution_count": 36,
   "id": "1cbbff20",
   "metadata": {},
   "outputs": [
    {
     "data": {
      "text/plain": [
       "LinearRegression()"
      ]
     },
     "execution_count": 36,
     "metadata": {},
     "output_type": "execute_result"
    }
   ],
   "source": [
    "from sklearn.linear_model import LinearRegression \n",
    "salesT1_regressor = LinearRegression()\n",
    "salesT1_regressor.fit(X_train,y_train)"
   ]
  },
  {
   "cell_type": "code",
   "execution_count": 37,
   "id": "32d88cc5",
   "metadata": {},
   "outputs": [
    {
     "name": "stdout",
     "output_type": "stream",
     "text": [
      "                            OLS Regression Results                            \n",
      "==============================================================================\n",
      "Dep. Variable:                Revenue   R-squared:                       0.832\n",
      "Model:                            OLS   Adj. R-squared:                  0.832\n",
      "Method:                 Least Squares   F-statistic:                 4.319e+04\n",
      "Date:                Wed, 04 Jan 2023   Prob (F-statistic):               0.00\n",
      "Time:                        14:01:14   Log-Likelihood:            -1.5505e+05\n",
      "No. Observations:               17492   AIC:                         3.101e+05\n",
      "Df Residuals:                   17489   BIC:                         3.101e+05\n",
      "Df Model:                           2                                         \n",
      "Covariance Type:            nonrobust                                         \n",
      "==============================================================================\n",
      "                 coef    std err          t      P>|t|      [0.025      0.975]\n",
      "------------------------------------------------------------------------------\n",
      "const      -5382.3947    276.503    -19.466      0.000   -5924.368   -4840.421\n",
      "Price          5.9238      0.175     33.860      0.000       5.581       6.267\n",
      "License      911.1314      3.250    280.361      0.000     904.761     917.501\n",
      "==============================================================================\n",
      "Omnibus:                     3529.005   Durbin-Watson:                   2.011\n",
      "Prob(Omnibus):                  0.000   Jarque-Bera (JB):            10467.771\n",
      "Skew:                          -1.052   Prob(JB):                         0.00\n",
      "Kurtosis:                       6.152   Cond. No.                     3.43e+04\n",
      "==============================================================================\n",
      "\n",
      "Notes:\n",
      "[1] Standard Errors assume that the covariance matrix of the errors is correctly specified.\n",
      "[2] The condition number is large, 3.43e+04. This might indicate that there are\n",
      "strong multicollinearity or other numerical problems.\n"
     ]
    }
   ],
   "source": [
    "import statsmodels.api as sm\n",
    "X_train2 = sm.add_constant(X_train)\n",
    "est = sm.OLS(y_train, X_train2) \n",
    "est2 = est.fit()\n",
    "print(est2.summary())"
   ]
  },
  {
   "cell_type": "code",
   "execution_count": 56,
   "id": "a4706c91",
   "metadata": {},
   "outputs": [],
   "source": [
    "\n",
    "y_train_pred = salesT1_regressor.predict(X_train)\n",
    "y_test_pred = salesT1_regressor.predict(X_test) \n"
   ]
  },
  {
   "cell_type": "code",
   "execution_count": 43,
   "id": "8dafdae8",
   "metadata": {},
   "outputs": [
    {
     "name": "stdout",
     "output_type": "stream",
     "text": [
      "MAE on Test Data 1257.9512828481063\n",
      "MAE on Training Data 1235.8999382992743\n",
      "MSE on Test Data 3118380.7629961795\n",
      "MSE on Training Data 2927848.094575333\n",
      "RMSE on Test Data 1765.8937575619263\n",
      "RMSE on Training Data 1711.0955831207482\n"
     ]
    }
   ],
   "source": [
    "from sklearn import metrics\n",
    "import numpy as np\n",
    "print('MAE on Test Data',metrics.mean_absolute_error(y_test, y_test_pred))\n",
    "print('MAE on Training Data',metrics.mean_absolute_error(y_train, y_train_pred))\n",
    "\n",
    "print('MSE on Test Data',metrics.mean_squared_error(y_test, y_test_pred))\n",
    "print('MSE on Training Data',metrics.mean_squared_error(y_train, y_train_pred))\n",
    "\n",
    "print('RMSE on Test Data',np.sqrt(metrics.mean_squared_error(y_test, y_test_pred)))\n",
    "print('RMSE on Training Data',np.sqrt(metrics.mean_squared_error(y_train, y_train_pred)))\n"
   ]
  },
  {
   "cell_type": "code",
   "execution_count": 44,
   "id": "4d157364",
   "metadata": {},
   "outputs": [
    {
     "name": "stdout",
     "output_type": "stream",
     "text": [
      "R Squared on Test Set: 0.8202869388333505\n",
      "R Squared on Training Set: 0.8316113709626016\n"
     ]
    }
   ],
   "source": [
    "from sklearn.metrics import r2_score\n",
    "r_sq_test = r2_score(y_test, y_test_pred)\n",
    "r_sq_train = r2_score(y_train, y_train_pred)\n",
    "print(\"R Squared on Test Set:\", r_sq_test)\n",
    "print(\"R Squared on Training Set:\", r_sq_train)\n",
    "\n"
   ]
  },
  {
   "cell_type": "code",
   "execution_count": 57,
   "id": "2763fb59",
   "metadata": {},
   "outputs": [
    {
     "data": {
      "text/plain": [
       "0.10313097967490033"
      ]
     },
     "execution_count": 57,
     "metadata": {},
     "output_type": "execute_result"
    }
   ],
   "source": [
    "#Error percentage 10.3%\n",
    "metrics.mean_absolute_error(y_train, y_train_pred)/salesT1[\"Revenue\"].mean()"
   ]
  },
  {
   "cell_type": "markdown",
   "id": "70a45735",
   "metadata": {},
   "source": [
    "### Results"
   ]
  },
  {
   "cell_type": "markdown",
   "id": "6893cfc9",
   "metadata": {},
   "source": [
    "Running a linear regression on Tier I licenses is not a good fit as expected. R Squared of only 83% with an average error percentage of 10.3%."
   ]
  },
  {
   "cell_type": "markdown",
   "id": "c898d3cd",
   "metadata": {},
   "source": [
    "## Tier I Multiple Regression Model with Transformation "
   ]
  },
  {
   "cell_type": "markdown",
   "id": "92c0a4f0",
   "metadata": {},
   "source": [
    "Transformations can be made to the variables in attempt to improve the model. Common transformations are interaction terms and log of variables. Due to the apparent ceiling reached on revenue, another variable to try to capture this condition will be introduced."
   ]
  },
  {
   "cell_type": "code",
   "execution_count": 47,
   "id": "d437daaf",
   "metadata": {},
   "outputs": [],
   "source": [
    "salesT1Trans = salesT1"
   ]
  },
  {
   "cell_type": "code",
   "execution_count": 49,
   "id": "b936a919",
   "metadata": {},
   "outputs": [
    {
     "data": {
      "text/html": [
       "<div>\n",
       "<style scoped>\n",
       "    .dataframe tbody tr th:only-of-type {\n",
       "        vertical-align: middle;\n",
       "    }\n",
       "\n",
       "    .dataframe tbody tr th {\n",
       "        vertical-align: top;\n",
       "    }\n",
       "\n",
       "    .dataframe thead th {\n",
       "        text-align: right;\n",
       "    }\n",
       "</style>\n",
       "<table border=\"1\" class=\"dataframe\">\n",
       "  <thead>\n",
       "    <tr style=\"text-align: right;\">\n",
       "      <th></th>\n",
       "      <th>Price</th>\n",
       "      <th>Tier</th>\n",
       "      <th>License</th>\n",
       "      <th>Revenue</th>\n",
       "    </tr>\n",
       "  </thead>\n",
       "  <tbody>\n",
       "    <tr>\n",
       "      <th>221</th>\n",
       "      <td>1623</td>\n",
       "      <td>TierI</td>\n",
       "      <td>1.0</td>\n",
       "      <td>1623.0</td>\n",
       "    </tr>\n",
       "    <tr>\n",
       "      <th>222</th>\n",
       "      <td>1623</td>\n",
       "      <td>TierI</td>\n",
       "      <td>1.0</td>\n",
       "      <td>1623.0</td>\n",
       "    </tr>\n",
       "    <tr>\n",
       "      <th>223</th>\n",
       "      <td>1623</td>\n",
       "      <td>TierI</td>\n",
       "      <td>1.0</td>\n",
       "      <td>1623.0</td>\n",
       "    </tr>\n",
       "    <tr>\n",
       "      <th>224</th>\n",
       "      <td>1623</td>\n",
       "      <td>TierI</td>\n",
       "      <td>1.0</td>\n",
       "      <td>1623.0</td>\n",
       "    </tr>\n",
       "    <tr>\n",
       "      <th>225</th>\n",
       "      <td>1623</td>\n",
       "      <td>TierI</td>\n",
       "      <td>1.0</td>\n",
       "      <td>1623.0</td>\n",
       "    </tr>\n",
       "  </tbody>\n",
       "</table>\n",
       "</div>"
      ],
      "text/plain": [
       "     Price   Tier  License  Revenue\n",
       "221   1623  TierI      1.0   1623.0\n",
       "222   1623  TierI      1.0   1623.0\n",
       "223   1623  TierI      1.0   1623.0\n",
       "224   1623  TierI      1.0   1623.0\n",
       "225   1623  TierI      1.0   1623.0"
      ]
     },
     "execution_count": 49,
     "metadata": {},
     "output_type": "execute_result"
    }
   ],
   "source": [
    "salesT1Trans.head()"
   ]
  },
  {
   "cell_type": "code",
   "execution_count": 51,
   "id": "9d59526a",
   "metadata": {},
   "outputs": [],
   "source": [
    "salesT1Trans=salesT1.drop(['Tier'], axis=1)"
   ]
  },
  {
   "cell_type": "code",
   "execution_count": 52,
   "id": "8b727471",
   "metadata": {},
   "outputs": [
    {
     "data": {
      "text/html": [
       "<div>\n",
       "<style scoped>\n",
       "    .dataframe tbody tr th:only-of-type {\n",
       "        vertical-align: middle;\n",
       "    }\n",
       "\n",
       "    .dataframe tbody tr th {\n",
       "        vertical-align: top;\n",
       "    }\n",
       "\n",
       "    .dataframe thead th {\n",
       "        text-align: right;\n",
       "    }\n",
       "</style>\n",
       "<table border=\"1\" class=\"dataframe\">\n",
       "  <thead>\n",
       "    <tr style=\"text-align: right;\">\n",
       "      <th></th>\n",
       "      <th>Price</th>\n",
       "      <th>License</th>\n",
       "      <th>Revenue</th>\n",
       "    </tr>\n",
       "  </thead>\n",
       "  <tbody>\n",
       "    <tr>\n",
       "      <th>221</th>\n",
       "      <td>1623</td>\n",
       "      <td>1.0</td>\n",
       "      <td>1623.0</td>\n",
       "    </tr>\n",
       "    <tr>\n",
       "      <th>222</th>\n",
       "      <td>1623</td>\n",
       "      <td>1.0</td>\n",
       "      <td>1623.0</td>\n",
       "    </tr>\n",
       "    <tr>\n",
       "      <th>223</th>\n",
       "      <td>1623</td>\n",
       "      <td>1.0</td>\n",
       "      <td>1623.0</td>\n",
       "    </tr>\n",
       "    <tr>\n",
       "      <th>224</th>\n",
       "      <td>1623</td>\n",
       "      <td>1.0</td>\n",
       "      <td>1623.0</td>\n",
       "    </tr>\n",
       "    <tr>\n",
       "      <th>225</th>\n",
       "      <td>1623</td>\n",
       "      <td>1.0</td>\n",
       "      <td>1623.0</td>\n",
       "    </tr>\n",
       "  </tbody>\n",
       "</table>\n",
       "</div>"
      ],
      "text/plain": [
       "     Price  License  Revenue\n",
       "221   1623      1.0   1623.0\n",
       "222   1623      1.0   1623.0\n",
       "223   1623      1.0   1623.0\n",
       "224   1623      1.0   1623.0\n",
       "225   1623      1.0   1623.0"
      ]
     },
     "execution_count": 52,
     "metadata": {},
     "output_type": "execute_result"
    }
   ],
   "source": [
    "salesT1Trans.head()"
   ]
  },
  {
   "cell_type": "code",
   "execution_count": 55,
   "id": "aa22e34c",
   "metadata": {},
   "outputs": [
    {
     "data": {
      "text/html": [
       "<div>\n",
       "<style scoped>\n",
       "    .dataframe tbody tr th:only-of-type {\n",
       "        vertical-align: middle;\n",
       "    }\n",
       "\n",
       "    .dataframe tbody tr th {\n",
       "        vertical-align: top;\n",
       "    }\n",
       "\n",
       "    .dataframe thead th {\n",
       "        text-align: right;\n",
       "    }\n",
       "</style>\n",
       "<table border=\"1\" class=\"dataframe\">\n",
       "  <thead>\n",
       "    <tr style=\"text-align: right;\">\n",
       "      <th></th>\n",
       "      <th>Price</th>\n",
       "      <th>License</th>\n",
       "      <th>Revenue</th>\n",
       "      <th>Interaction</th>\n",
       "    </tr>\n",
       "  </thead>\n",
       "  <tbody>\n",
       "    <tr>\n",
       "      <th>30675</th>\n",
       "      <td>1623</td>\n",
       "      <td>6.0</td>\n",
       "      <td>9738.0</td>\n",
       "      <td>9738.0</td>\n",
       "    </tr>\n",
       "    <tr>\n",
       "      <th>27203</th>\n",
       "      <td>1623</td>\n",
       "      <td>6.0</td>\n",
       "      <td>9738.0</td>\n",
       "      <td>9738.0</td>\n",
       "    </tr>\n",
       "    <tr>\n",
       "      <th>76414</th>\n",
       "      <td>1623</td>\n",
       "      <td>11.0</td>\n",
       "      <td>16065.0</td>\n",
       "      <td>17853.0</td>\n",
       "    </tr>\n",
       "    <tr>\n",
       "      <th>7363</th>\n",
       "      <td>1623</td>\n",
       "      <td>3.0</td>\n",
       "      <td>4869.0</td>\n",
       "      <td>4869.0</td>\n",
       "    </tr>\n",
       "    <tr>\n",
       "      <th>76692</th>\n",
       "      <td>1623</td>\n",
       "      <td>10.0</td>\n",
       "      <td>16065.0</td>\n",
       "      <td>16230.0</td>\n",
       "    </tr>\n",
       "    <tr>\n",
       "      <th>...</th>\n",
       "      <td>...</td>\n",
       "      <td>...</td>\n",
       "      <td>...</td>\n",
       "      <td>...</td>\n",
       "    </tr>\n",
       "    <tr>\n",
       "      <th>44467</th>\n",
       "      <td>1629</td>\n",
       "      <td>6.0</td>\n",
       "      <td>9774.0</td>\n",
       "      <td>9774.0</td>\n",
       "    </tr>\n",
       "    <tr>\n",
       "      <th>43533</th>\n",
       "      <td>1629</td>\n",
       "      <td>6.0</td>\n",
       "      <td>9774.0</td>\n",
       "      <td>9774.0</td>\n",
       "    </tr>\n",
       "    <tr>\n",
       "      <th>16843</th>\n",
       "      <td>1623</td>\n",
       "      <td>4.0</td>\n",
       "      <td>6492.0</td>\n",
       "      <td>6492.0</td>\n",
       "    </tr>\n",
       "    <tr>\n",
       "      <th>45297</th>\n",
       "      <td>1629</td>\n",
       "      <td>6.0</td>\n",
       "      <td>9774.0</td>\n",
       "      <td>9774.0</td>\n",
       "    </tr>\n",
       "    <tr>\n",
       "      <th>14659</th>\n",
       "      <td>1362</td>\n",
       "      <td>4.0</td>\n",
       "      <td>5448.0</td>\n",
       "      <td>5448.0</td>\n",
       "    </tr>\n",
       "  </tbody>\n",
       "</table>\n",
       "<p>219 rows × 4 columns</p>\n",
       "</div>"
      ],
      "text/plain": [
       "       Price  License  Revenue  Interaction\n",
       "30675   1623      6.0   9738.0       9738.0\n",
       "27203   1623      6.0   9738.0       9738.0\n",
       "76414   1623     11.0  16065.0      17853.0\n",
       "7363    1623      3.0   4869.0       4869.0\n",
       "76692   1623     10.0  16065.0      16230.0\n",
       "...      ...      ...      ...          ...\n",
       "44467   1629      6.0   9774.0       9774.0\n",
       "43533   1629      6.0   9774.0       9774.0\n",
       "16843   1623      4.0   6492.0       6492.0\n",
       "45297   1629      6.0   9774.0       9774.0\n",
       "14659   1362      4.0   5448.0       5448.0\n",
       "\n",
       "[219 rows x 4 columns]"
      ]
     },
     "execution_count": 55,
     "metadata": {},
     "output_type": "execute_result"
    }
   ],
   "source": [
    "salesT1Trans['Interaction']=salesT1Trans['Price']*salesT1Trans['License']\n",
    "salesT1Trans.sample(frac=.01)"
   ]
  },
  {
   "cell_type": "code",
   "execution_count": 58,
   "id": "e6a81a87",
   "metadata": {},
   "outputs": [
    {
     "data": {
      "text/html": [
       "<div>\n",
       "<style scoped>\n",
       "    .dataframe tbody tr th:only-of-type {\n",
       "        vertical-align: middle;\n",
       "    }\n",
       "\n",
       "    .dataframe tbody tr th {\n",
       "        vertical-align: top;\n",
       "    }\n",
       "\n",
       "    .dataframe thead th {\n",
       "        text-align: right;\n",
       "    }\n",
       "</style>\n",
       "<table border=\"1\" class=\"dataframe\">\n",
       "  <thead>\n",
       "    <tr style=\"text-align: right;\">\n",
       "      <th></th>\n",
       "      <th>Price</th>\n",
       "      <th>License</th>\n",
       "      <th>Revenue</th>\n",
       "      <th>Interaction</th>\n",
       "      <th>LogRevenue</th>\n",
       "    </tr>\n",
       "  </thead>\n",
       "  <tbody>\n",
       "    <tr>\n",
       "      <th>55407</th>\n",
       "      <td>1623</td>\n",
       "      <td>7.0</td>\n",
       "      <td>11361.0</td>\n",
       "      <td>11361.0</td>\n",
       "      <td>9.337942</td>\n",
       "    </tr>\n",
       "    <tr>\n",
       "      <th>69787</th>\n",
       "      <td>1629</td>\n",
       "      <td>9.0</td>\n",
       "      <td>14661.0</td>\n",
       "      <td>14661.0</td>\n",
       "      <td>9.592946</td>\n",
       "    </tr>\n",
       "    <tr>\n",
       "      <th>43540</th>\n",
       "      <td>1629</td>\n",
       "      <td>6.0</td>\n",
       "      <td>9774.0</td>\n",
       "      <td>9774.0</td>\n",
       "      <td>9.187481</td>\n",
       "    </tr>\n",
       "    <tr>\n",
       "      <th>76318</th>\n",
       "      <td>1623</td>\n",
       "      <td>18.0</td>\n",
       "      <td>16065.0</td>\n",
       "      <td>29214.0</td>\n",
       "      <td>9.684398</td>\n",
       "    </tr>\n",
       "    <tr>\n",
       "      <th>14487</th>\n",
       "      <td>1362</td>\n",
       "      <td>4.0</td>\n",
       "      <td>5448.0</td>\n",
       "      <td>5448.0</td>\n",
       "      <td>8.603004</td>\n",
       "    </tr>\n",
       "    <tr>\n",
       "      <th>...</th>\n",
       "      <td>...</td>\n",
       "      <td>...</td>\n",
       "      <td>...</td>\n",
       "      <td>...</td>\n",
       "      <td>...</td>\n",
       "    </tr>\n",
       "    <tr>\n",
       "      <th>76682</th>\n",
       "      <td>1623</td>\n",
       "      <td>18.0</td>\n",
       "      <td>16065.0</td>\n",
       "      <td>29214.0</td>\n",
       "      <td>9.684398</td>\n",
       "    </tr>\n",
       "    <tr>\n",
       "      <th>74519</th>\n",
       "      <td>1623</td>\n",
       "      <td>15.0</td>\n",
       "      <td>16065.0</td>\n",
       "      <td>24345.0</td>\n",
       "      <td>9.684398</td>\n",
       "    </tr>\n",
       "    <tr>\n",
       "      <th>65118</th>\n",
       "      <td>1623</td>\n",
       "      <td>9.0</td>\n",
       "      <td>14607.0</td>\n",
       "      <td>14607.0</td>\n",
       "      <td>9.589256</td>\n",
       "    </tr>\n",
       "    <tr>\n",
       "      <th>65286</th>\n",
       "      <td>1623</td>\n",
       "      <td>9.0</td>\n",
       "      <td>14607.0</td>\n",
       "      <td>14607.0</td>\n",
       "      <td>9.589256</td>\n",
       "    </tr>\n",
       "    <tr>\n",
       "      <th>42944</th>\n",
       "      <td>1629</td>\n",
       "      <td>6.0</td>\n",
       "      <td>9774.0</td>\n",
       "      <td>9774.0</td>\n",
       "      <td>9.187481</td>\n",
       "    </tr>\n",
       "  </tbody>\n",
       "</table>\n",
       "<p>219 rows × 5 columns</p>\n",
       "</div>"
      ],
      "text/plain": [
       "       Price  License  Revenue  Interaction  LogRevenue\n",
       "55407   1623      7.0  11361.0      11361.0    9.337942\n",
       "69787   1629      9.0  14661.0      14661.0    9.592946\n",
       "43540   1629      6.0   9774.0       9774.0    9.187481\n",
       "76318   1623     18.0  16065.0      29214.0    9.684398\n",
       "14487   1362      4.0   5448.0       5448.0    8.603004\n",
       "...      ...      ...      ...          ...         ...\n",
       "76682   1623     18.0  16065.0      29214.0    9.684398\n",
       "74519   1623     15.0  16065.0      24345.0    9.684398\n",
       "65118   1623      9.0  14607.0      14607.0    9.589256\n",
       "65286   1623      9.0  14607.0      14607.0    9.589256\n",
       "42944   1629      6.0   9774.0       9774.0    9.187481\n",
       "\n",
       "[219 rows x 5 columns]"
      ]
     },
     "execution_count": 58,
     "metadata": {},
     "output_type": "execute_result"
    }
   ],
   "source": [
    "salesT1Trans['LogRevenue']=np.log(salesT1Trans['Revenue'])\n",
    "salesT1Trans.sample(frac=.01)"
   ]
  },
  {
   "cell_type": "code",
   "execution_count": 59,
   "id": "09c9cd70",
   "metadata": {},
   "outputs": [
    {
     "data": {
      "text/html": [
       "<div>\n",
       "<style scoped>\n",
       "    .dataframe tbody tr th:only-of-type {\n",
       "        vertical-align: middle;\n",
       "    }\n",
       "\n",
       "    .dataframe tbody tr th {\n",
       "        vertical-align: top;\n",
       "    }\n",
       "\n",
       "    .dataframe thead th {\n",
       "        text-align: right;\n",
       "    }\n",
       "</style>\n",
       "<table border=\"1\" class=\"dataframe\">\n",
       "  <thead>\n",
       "    <tr style=\"text-align: right;\">\n",
       "      <th></th>\n",
       "      <th>Price</th>\n",
       "      <th>License</th>\n",
       "      <th>Revenue</th>\n",
       "      <th>Interaction</th>\n",
       "      <th>LogRevenue</th>\n",
       "      <th>LogInteraction</th>\n",
       "    </tr>\n",
       "  </thead>\n",
       "  <tbody>\n",
       "    <tr>\n",
       "      <th>80564</th>\n",
       "      <td>1623</td>\n",
       "      <td>12.5</td>\n",
       "      <td>16065.0</td>\n",
       "      <td>20287.5</td>\n",
       "      <td>9.684398</td>\n",
       "      <td>9.917760</td>\n",
       "    </tr>\n",
       "    <tr>\n",
       "      <th>44076</th>\n",
       "      <td>1629</td>\n",
       "      <td>6.0</td>\n",
       "      <td>9774.0</td>\n",
       "      <td>9774.0</td>\n",
       "      <td>9.187481</td>\n",
       "      <td>9.187481</td>\n",
       "    </tr>\n",
       "    <tr>\n",
       "      <th>28578</th>\n",
       "      <td>1623</td>\n",
       "      <td>6.0</td>\n",
       "      <td>9738.0</td>\n",
       "      <td>9738.0</td>\n",
       "      <td>9.183791</td>\n",
       "      <td>9.183791</td>\n",
       "    </tr>\n",
       "    <tr>\n",
       "      <th>74415</th>\n",
       "      <td>1623</td>\n",
       "      <td>18.0</td>\n",
       "      <td>16065.0</td>\n",
       "      <td>29214.0</td>\n",
       "      <td>9.684398</td>\n",
       "      <td>10.282403</td>\n",
       "    </tr>\n",
       "    <tr>\n",
       "      <th>51344</th>\n",
       "      <td>1362</td>\n",
       "      <td>8.0</td>\n",
       "      <td>10896.0</td>\n",
       "      <td>10896.0</td>\n",
       "      <td>9.296151</td>\n",
       "      <td>9.296151</td>\n",
       "    </tr>\n",
       "    <tr>\n",
       "      <th>...</th>\n",
       "      <td>...</td>\n",
       "      <td>...</td>\n",
       "      <td>...</td>\n",
       "      <td>...</td>\n",
       "      <td>...</td>\n",
       "      <td>...</td>\n",
       "    </tr>\n",
       "    <tr>\n",
       "      <th>77437</th>\n",
       "      <td>1623</td>\n",
       "      <td>12.0</td>\n",
       "      <td>16065.0</td>\n",
       "      <td>19476.0</td>\n",
       "      <td>9.684398</td>\n",
       "      <td>9.876938</td>\n",
       "    </tr>\n",
       "    <tr>\n",
       "      <th>80701</th>\n",
       "      <td>1623</td>\n",
       "      <td>12.0</td>\n",
       "      <td>16065.0</td>\n",
       "      <td>19476.0</td>\n",
       "      <td>9.684398</td>\n",
       "      <td>9.876938</td>\n",
       "    </tr>\n",
       "    <tr>\n",
       "      <th>44270</th>\n",
       "      <td>1629</td>\n",
       "      <td>6.0</td>\n",
       "      <td>9774.0</td>\n",
       "      <td>9774.0</td>\n",
       "      <td>9.187481</td>\n",
       "      <td>9.187481</td>\n",
       "    </tr>\n",
       "    <tr>\n",
       "      <th>78570</th>\n",
       "      <td>1623</td>\n",
       "      <td>11.0</td>\n",
       "      <td>16065.0</td>\n",
       "      <td>17853.0</td>\n",
       "      <td>9.684398</td>\n",
       "      <td>9.789927</td>\n",
       "    </tr>\n",
       "    <tr>\n",
       "      <th>14682</th>\n",
       "      <td>1362</td>\n",
       "      <td>4.0</td>\n",
       "      <td>5448.0</td>\n",
       "      <td>5448.0</td>\n",
       "      <td>8.603004</td>\n",
       "      <td>8.603004</td>\n",
       "    </tr>\n",
       "  </tbody>\n",
       "</table>\n",
       "<p>219 rows × 6 columns</p>\n",
       "</div>"
      ],
      "text/plain": [
       "       Price  License  Revenue  Interaction  LogRevenue  LogInteraction\n",
       "80564   1623     12.5  16065.0      20287.5    9.684398        9.917760\n",
       "44076   1629      6.0   9774.0       9774.0    9.187481        9.187481\n",
       "28578   1623      6.0   9738.0       9738.0    9.183791        9.183791\n",
       "74415   1623     18.0  16065.0      29214.0    9.684398       10.282403\n",
       "51344   1362      8.0  10896.0      10896.0    9.296151        9.296151\n",
       "...      ...      ...      ...          ...         ...             ...\n",
       "77437   1623     12.0  16065.0      19476.0    9.684398        9.876938\n",
       "80701   1623     12.0  16065.0      19476.0    9.684398        9.876938\n",
       "44270   1629      6.0   9774.0       9774.0    9.187481        9.187481\n",
       "78570   1623     11.0  16065.0      17853.0    9.684398        9.789927\n",
       "14682   1362      4.0   5448.0       5448.0    8.603004        8.603004\n",
       "\n",
       "[219 rows x 6 columns]"
      ]
     },
     "execution_count": 59,
     "metadata": {},
     "output_type": "execute_result"
    }
   ],
   "source": [
    "salesT1Trans['LogInteraction']=np.log(salesT1Trans['Interaction'])\n",
    "salesT1Trans.sample(frac=.01)"
   ]
  },
  {
   "cell_type": "code",
   "execution_count": 62,
   "id": "b88c19d4",
   "metadata": {},
   "outputs": [],
   "source": [
    "#Set the conditions - licenses at 10 or more will be labeled FlatPrice, less than 10 labeled noFlatPrice\n",
    "#less than 10 indicates the ceiling  has not been reached \n",
    "conditions = [\n",
    "    (salesT1Trans['License'] >= 10),\n",
    "    (salesT1Trans['License'] < 10)]"
   ]
  },
  {
   "cell_type": "code",
   "execution_count": 64,
   "id": "b00b7a1f",
   "metadata": {},
   "outputs": [],
   "source": [
    "#Assign values\n",
    "values = ['FlatPrice', 'noFlatPrice']"
   ]
  },
  {
   "cell_type": "code",
   "execution_count": 66,
   "id": "8a40e2d2",
   "metadata": {},
   "outputs": [],
   "source": [
    "#Add a new column based on conditions\n",
    "salesT1Trans['FlatPrice'] = np.select(conditions, values)"
   ]
  },
  {
   "cell_type": "code",
   "execution_count": 67,
   "id": "21a64f1d",
   "metadata": {},
   "outputs": [
    {
     "data": {
      "text/html": [
       "<div>\n",
       "<style scoped>\n",
       "    .dataframe tbody tr th:only-of-type {\n",
       "        vertical-align: middle;\n",
       "    }\n",
       "\n",
       "    .dataframe tbody tr th {\n",
       "        vertical-align: top;\n",
       "    }\n",
       "\n",
       "    .dataframe thead th {\n",
       "        text-align: right;\n",
       "    }\n",
       "</style>\n",
       "<table border=\"1\" class=\"dataframe\">\n",
       "  <thead>\n",
       "    <tr style=\"text-align: right;\">\n",
       "      <th></th>\n",
       "      <th>Price</th>\n",
       "      <th>License</th>\n",
       "      <th>Revenue</th>\n",
       "      <th>Interaction</th>\n",
       "      <th>LogRevenue</th>\n",
       "      <th>LogInteraction</th>\n",
       "      <th>FlatPrice</th>\n",
       "    </tr>\n",
       "  </thead>\n",
       "  <tbody>\n",
       "    <tr>\n",
       "      <th>59574</th>\n",
       "      <td>1623</td>\n",
       "      <td>8.00</td>\n",
       "      <td>12984.0</td>\n",
       "      <td>12984.00</td>\n",
       "      <td>9.471473</td>\n",
       "      <td>9.471473</td>\n",
       "      <td>noFlatPrice</td>\n",
       "    </tr>\n",
       "    <tr>\n",
       "      <th>55129</th>\n",
       "      <td>1623</td>\n",
       "      <td>7.00</td>\n",
       "      <td>11361.0</td>\n",
       "      <td>11361.00</td>\n",
       "      <td>9.337942</td>\n",
       "      <td>9.337942</td>\n",
       "      <td>noFlatPrice</td>\n",
       "    </tr>\n",
       "    <tr>\n",
       "      <th>80438</th>\n",
       "      <td>1623</td>\n",
       "      <td>15.25</td>\n",
       "      <td>16065.0</td>\n",
       "      <td>24750.75</td>\n",
       "      <td>9.684398</td>\n",
       "      <td>10.116611</td>\n",
       "      <td>FlatPrice</td>\n",
       "    </tr>\n",
       "    <tr>\n",
       "      <th>80053</th>\n",
       "      <td>1623</td>\n",
       "      <td>15.00</td>\n",
       "      <td>16065.0</td>\n",
       "      <td>24345.00</td>\n",
       "      <td>9.684398</td>\n",
       "      <td>10.100082</td>\n",
       "      <td>FlatPrice</td>\n",
       "    </tr>\n",
       "    <tr>\n",
       "      <th>76528</th>\n",
       "      <td>1623</td>\n",
       "      <td>12.00</td>\n",
       "      <td>16065.0</td>\n",
       "      <td>19476.00</td>\n",
       "      <td>9.684398</td>\n",
       "      <td>9.876938</td>\n",
       "      <td>FlatPrice</td>\n",
       "    </tr>\n",
       "    <tr>\n",
       "      <th>...</th>\n",
       "      <td>...</td>\n",
       "      <td>...</td>\n",
       "      <td>...</td>\n",
       "      <td>...</td>\n",
       "      <td>...</td>\n",
       "      <td>...</td>\n",
       "      <td>...</td>\n",
       "    </tr>\n",
       "    <tr>\n",
       "      <th>42593</th>\n",
       "      <td>1629</td>\n",
       "      <td>6.00</td>\n",
       "      <td>9774.0</td>\n",
       "      <td>9774.00</td>\n",
       "      <td>9.187481</td>\n",
       "      <td>9.187481</td>\n",
       "      <td>noFlatPrice</td>\n",
       "    </tr>\n",
       "    <tr>\n",
       "      <th>15105</th>\n",
       "      <td>1362</td>\n",
       "      <td>4.00</td>\n",
       "      <td>5448.0</td>\n",
       "      <td>5448.00</td>\n",
       "      <td>8.603004</td>\n",
       "      <td>8.603004</td>\n",
       "      <td>noFlatPrice</td>\n",
       "    </tr>\n",
       "    <tr>\n",
       "      <th>8533</th>\n",
       "      <td>1623</td>\n",
       "      <td>3.00</td>\n",
       "      <td>4869.0</td>\n",
       "      <td>4869.00</td>\n",
       "      <td>8.490644</td>\n",
       "      <td>8.490644</td>\n",
       "      <td>noFlatPrice</td>\n",
       "    </tr>\n",
       "    <tr>\n",
       "      <th>80732</th>\n",
       "      <td>1623</td>\n",
       "      <td>15.00</td>\n",
       "      <td>16065.0</td>\n",
       "      <td>24345.00</td>\n",
       "      <td>9.684398</td>\n",
       "      <td>10.100082</td>\n",
       "      <td>FlatPrice</td>\n",
       "    </tr>\n",
       "    <tr>\n",
       "      <th>7269</th>\n",
       "      <td>1623</td>\n",
       "      <td>3.00</td>\n",
       "      <td>4869.0</td>\n",
       "      <td>4869.00</td>\n",
       "      <td>8.490644</td>\n",
       "      <td>8.490644</td>\n",
       "      <td>noFlatPrice</td>\n",
       "    </tr>\n",
       "  </tbody>\n",
       "</table>\n",
       "<p>219 rows × 7 columns</p>\n",
       "</div>"
      ],
      "text/plain": [
       "       Price  License  Revenue  Interaction  LogRevenue  LogInteraction  \\\n",
       "59574   1623     8.00  12984.0     12984.00    9.471473        9.471473   \n",
       "55129   1623     7.00  11361.0     11361.00    9.337942        9.337942   \n",
       "80438   1623    15.25  16065.0     24750.75    9.684398       10.116611   \n",
       "80053   1623    15.00  16065.0     24345.00    9.684398       10.100082   \n",
       "76528   1623    12.00  16065.0     19476.00    9.684398        9.876938   \n",
       "...      ...      ...      ...          ...         ...             ...   \n",
       "42593   1629     6.00   9774.0      9774.00    9.187481        9.187481   \n",
       "15105   1362     4.00   5448.0      5448.00    8.603004        8.603004   \n",
       "8533    1623     3.00   4869.0      4869.00    8.490644        8.490644   \n",
       "80732   1623    15.00  16065.0     24345.00    9.684398       10.100082   \n",
       "7269    1623     3.00   4869.0      4869.00    8.490644        8.490644   \n",
       "\n",
       "         FlatPrice  \n",
       "59574  noFlatPrice  \n",
       "55129  noFlatPrice  \n",
       "80438    FlatPrice  \n",
       "80053    FlatPrice  \n",
       "76528    FlatPrice  \n",
       "...            ...  \n",
       "42593  noFlatPrice  \n",
       "15105  noFlatPrice  \n",
       "8533   noFlatPrice  \n",
       "80732    FlatPrice  \n",
       "7269   noFlatPrice  \n",
       "\n",
       "[219 rows x 7 columns]"
      ]
     },
     "execution_count": 67,
     "metadata": {},
     "output_type": "execute_result"
    }
   ],
   "source": [
    "salesT1Trans.sample(frac=0.01)"
   ]
  },
  {
   "cell_type": "markdown",
   "id": "16329010",
   "metadata": {},
   "source": [
    "Now that the variable has been set based on pricing cap, the categorical variable will be converted to a dummy variable for use in the regression. "
   ]
  },
  {
   "cell_type": "code",
   "execution_count": 69,
   "id": "971abcf1",
   "metadata": {},
   "outputs": [],
   "source": [
    "SalesT1Dum = pd.get_dummies(salesT1Trans, drop_first=True)"
   ]
  },
  {
   "cell_type": "code",
   "execution_count": 70,
   "id": "b11b5845",
   "metadata": {},
   "outputs": [
    {
     "data": {
      "text/html": [
       "<div>\n",
       "<style scoped>\n",
       "    .dataframe tbody tr th:only-of-type {\n",
       "        vertical-align: middle;\n",
       "    }\n",
       "\n",
       "    .dataframe tbody tr th {\n",
       "        vertical-align: top;\n",
       "    }\n",
       "\n",
       "    .dataframe thead th {\n",
       "        text-align: right;\n",
       "    }\n",
       "</style>\n",
       "<table border=\"1\" class=\"dataframe\">\n",
       "  <thead>\n",
       "    <tr style=\"text-align: right;\">\n",
       "      <th></th>\n",
       "      <th>Price</th>\n",
       "      <th>License</th>\n",
       "      <th>Revenue</th>\n",
       "      <th>Interaction</th>\n",
       "      <th>LogRevenue</th>\n",
       "      <th>LogInteraction</th>\n",
       "      <th>FlatPrice_noFlatPrice</th>\n",
       "    </tr>\n",
       "  </thead>\n",
       "  <tbody>\n",
       "    <tr>\n",
       "      <th>45085</th>\n",
       "      <td>1629</td>\n",
       "      <td>6.0</td>\n",
       "      <td>9774.0</td>\n",
       "      <td>9774.0</td>\n",
       "      <td>9.187481</td>\n",
       "      <td>9.187481</td>\n",
       "      <td>1</td>\n",
       "    </tr>\n",
       "    <tr>\n",
       "      <th>78981</th>\n",
       "      <td>1623</td>\n",
       "      <td>10.0</td>\n",
       "      <td>16065.0</td>\n",
       "      <td>16230.0</td>\n",
       "      <td>9.684398</td>\n",
       "      <td>9.694617</td>\n",
       "      <td>0</td>\n",
       "    </tr>\n",
       "    <tr>\n",
       "      <th>69968</th>\n",
       "      <td>1629</td>\n",
       "      <td>9.0</td>\n",
       "      <td>14661.0</td>\n",
       "      <td>14661.0</td>\n",
       "      <td>9.592946</td>\n",
       "      <td>9.592946</td>\n",
       "      <td>1</td>\n",
       "    </tr>\n",
       "    <tr>\n",
       "      <th>55428</th>\n",
       "      <td>1623</td>\n",
       "      <td>7.0</td>\n",
       "      <td>11361.0</td>\n",
       "      <td>11361.0</td>\n",
       "      <td>9.337942</td>\n",
       "      <td>9.337942</td>\n",
       "      <td>1</td>\n",
       "    </tr>\n",
       "    <tr>\n",
       "      <th>85026</th>\n",
       "      <td>1629</td>\n",
       "      <td>14.0</td>\n",
       "      <td>17580.0</td>\n",
       "      <td>22806.0</td>\n",
       "      <td>9.774517</td>\n",
       "      <td>10.034779</td>\n",
       "      <td>0</td>\n",
       "    </tr>\n",
       "    <tr>\n",
       "      <th>...</th>\n",
       "      <td>...</td>\n",
       "      <td>...</td>\n",
       "      <td>...</td>\n",
       "      <td>...</td>\n",
       "      <td>...</td>\n",
       "      <td>...</td>\n",
       "      <td>...</td>\n",
       "    </tr>\n",
       "    <tr>\n",
       "      <th>81013</th>\n",
       "      <td>1623</td>\n",
       "      <td>16.0</td>\n",
       "      <td>16065.0</td>\n",
       "      <td>25968.0</td>\n",
       "      <td>9.684398</td>\n",
       "      <td>10.164620</td>\n",
       "      <td>0</td>\n",
       "    </tr>\n",
       "    <tr>\n",
       "      <th>31544</th>\n",
       "      <td>1623</td>\n",
       "      <td>6.0</td>\n",
       "      <td>9738.0</td>\n",
       "      <td>9738.0</td>\n",
       "      <td>9.183791</td>\n",
       "      <td>9.183791</td>\n",
       "      <td>1</td>\n",
       "    </tr>\n",
       "    <tr>\n",
       "      <th>75861</th>\n",
       "      <td>1623</td>\n",
       "      <td>15.0</td>\n",
       "      <td>16065.0</td>\n",
       "      <td>24345.0</td>\n",
       "      <td>9.684398</td>\n",
       "      <td>10.100082</td>\n",
       "      <td>0</td>\n",
       "    </tr>\n",
       "    <tr>\n",
       "      <th>30316</th>\n",
       "      <td>1623</td>\n",
       "      <td>6.0</td>\n",
       "      <td>9738.0</td>\n",
       "      <td>9738.0</td>\n",
       "      <td>9.183791</td>\n",
       "      <td>9.183791</td>\n",
       "      <td>1</td>\n",
       "    </tr>\n",
       "    <tr>\n",
       "      <th>44689</th>\n",
       "      <td>1629</td>\n",
       "      <td>6.0</td>\n",
       "      <td>9774.0</td>\n",
       "      <td>9774.0</td>\n",
       "      <td>9.187481</td>\n",
       "      <td>9.187481</td>\n",
       "      <td>1</td>\n",
       "    </tr>\n",
       "  </tbody>\n",
       "</table>\n",
       "<p>219 rows × 7 columns</p>\n",
       "</div>"
      ],
      "text/plain": [
       "       Price  License  Revenue  Interaction  LogRevenue  LogInteraction  \\\n",
       "45085   1629      6.0   9774.0       9774.0    9.187481        9.187481   \n",
       "78981   1623     10.0  16065.0      16230.0    9.684398        9.694617   \n",
       "69968   1629      9.0  14661.0      14661.0    9.592946        9.592946   \n",
       "55428   1623      7.0  11361.0      11361.0    9.337942        9.337942   \n",
       "85026   1629     14.0  17580.0      22806.0    9.774517       10.034779   \n",
       "...      ...      ...      ...          ...         ...             ...   \n",
       "81013   1623     16.0  16065.0      25968.0    9.684398       10.164620   \n",
       "31544   1623      6.0   9738.0       9738.0    9.183791        9.183791   \n",
       "75861   1623     15.0  16065.0      24345.0    9.684398       10.100082   \n",
       "30316   1623      6.0   9738.0       9738.0    9.183791        9.183791   \n",
       "44689   1629      6.0   9774.0       9774.0    9.187481        9.187481   \n",
       "\n",
       "       FlatPrice_noFlatPrice  \n",
       "45085                      1  \n",
       "78981                      0  \n",
       "69968                      1  \n",
       "55428                      1  \n",
       "85026                      0  \n",
       "...                      ...  \n",
       "81013                      0  \n",
       "31544                      1  \n",
       "75861                      0  \n",
       "30316                      1  \n",
       "44689                      1  \n",
       "\n",
       "[219 rows x 7 columns]"
      ]
     },
     "execution_count": 70,
     "metadata": {},
     "output_type": "execute_result"
    }
   ],
   "source": [
    "SalesT1Dum.sample(frac=0.01)"
   ]
  },
  {
   "cell_type": "code",
   "execution_count": 71,
   "id": "689ea4c4",
   "metadata": {},
   "outputs": [],
   "source": [
    "#Define independent and dependent variables\n",
    "XT1Trans = SalesT1Dum.drop(['Revenue','LogRevenue'],axis=1)\n",
    "yT1Trans = SalesT1Dum['LogRevenue']"
   ]
  },
  {
   "cell_type": "code",
   "execution_count": 73,
   "id": "943564a8",
   "metadata": {},
   "outputs": [],
   "source": [
    "#Split trainig and test data \n",
    "from sklearn.model_selection import train_test_split\n",
    "X_train, X_test, y_train, y_test = train_test_split(XT1Trans, yT1Trans, test_size=0.2, random_state=0)"
   ]
  },
  {
   "cell_type": "code",
   "execution_count": 74,
   "id": "d2001313",
   "metadata": {},
   "outputs": [
    {
     "data": {
      "text/plain": [
       "LinearRegression()"
      ]
     },
     "execution_count": 74,
     "metadata": {},
     "output_type": "execute_result"
    }
   ],
   "source": [
    "from sklearn.linear_model import LinearRegression \n",
    "salesT1Trans_regressor = LinearRegression()\n",
    "salesT1Trans_regressor.fit(X_train,y_train)"
   ]
  },
  {
   "cell_type": "code",
   "execution_count": 75,
   "id": "3fe6be04",
   "metadata": {},
   "outputs": [
    {
     "name": "stdout",
     "output_type": "stream",
     "text": [
      "                            OLS Regression Results                            \n",
      "==============================================================================\n",
      "Dep. Variable:             LogRevenue   R-squared:                       0.969\n",
      "Model:                            OLS   Adj. R-squared:                  0.969\n",
      "Method:                 Least Squares   F-statistic:                 1.085e+05\n",
      "Date:                Wed, 04 Jan 2023   Prob (F-statistic):               0.00\n",
      "Time:                        14:43:55   Log-Likelihood:                 19972.\n",
      "No. Observations:               17492   AIC:                        -3.993e+04\n",
      "Df Residuals:                   17486   BIC:                        -3.988e+04\n",
      "Df Model:                           5                                         \n",
      "Covariance Type:            nonrobust                                         \n",
      "=========================================================================================\n",
      "                            coef    std err          t      P>|t|      [0.025      0.975]\n",
      "-----------------------------------------------------------------------------------------\n",
      "const                    -3.3386      0.040    -83.281      0.000      -3.417      -3.260\n",
      "Price                     0.0002   1.98e-05      8.183      0.000       0.000       0.000\n",
      "License                   0.0358      0.005      7.665      0.000       0.027       0.045\n",
      "Interaction           -7.505e-05   2.85e-06    -26.368      0.000   -8.06e-05   -6.95e-05\n",
      "LogInteraction            1.3958      0.004    343.823      0.000       1.388       1.404\n",
      "FlatPrice_noFlatPrice    -0.0177      0.002     -7.165      0.000      -0.023      -0.013\n",
      "==============================================================================\n",
      "Omnibus:                    30096.909   Durbin-Watson:                   1.996\n",
      "Prob(Omnibus):                  0.000   Jarque-Bera (JB):         45476805.850\n",
      "Skew:                         -11.864   Prob(JB):                         0.00\n",
      "Kurtosis:                     251.664   Cond. No.                     1.07e+06\n",
      "==============================================================================\n",
      "\n",
      "Notes:\n",
      "[1] Standard Errors assume that the covariance matrix of the errors is correctly specified.\n",
      "[2] The condition number is large, 1.07e+06. This might indicate that there are\n",
      "strong multicollinearity or other numerical problems.\n"
     ]
    }
   ],
   "source": [
    "import statsmodels.api as sm\n",
    "X_train2 = sm.add_constant(X_train) \n",
    "est = sm.OLS(y_train, X_train2) \n",
    "est2 = est.fit()\n",
    "print(est2.summary())"
   ]
  },
  {
   "cell_type": "code",
   "execution_count": 77,
   "id": "23094730",
   "metadata": {},
   "outputs": [],
   "source": [
    "y_train_pred = salesT1Trans_regressor.predict(X_train) \n",
    "y_test_pred = salesT1Trans_regressor.predict(X_test)"
   ]
  },
  {
   "cell_type": "code",
   "execution_count": 83,
   "id": "0ca96832",
   "metadata": {},
   "outputs": [
    {
     "data": {
      "image/png": "[encoded data removed]",
      "text/plain": [
       "<Figure size 720x288 with 1 Axes>"
      ]
     },
     "metadata": {
      "needs_background": "light"
     },
     "output_type": "display_data"
    }
   ],
   "source": [
    "plt.figure(figsize = (10,4))\n",
    "plt.scatter(y_train_pred, y_train_pred-y_train,c='steelblue',marker ='o', label='Training Data') \n",
    "plt.scatter(y_test_pred, y_test_pred-y_test,c='limegreen',marker ='s', label='Test Data')\n",
    "plt.xlabel(\"Predicted Values\")\n",
    "plt.ylabel(\"Residuals\")\n",
    "plt.legend(loc='upper right')\n",
    "plt.hlines(y=0, xmin=0, xmax=15, color='black',lw=2) \n",
    "plt.show()"
   ]
  },
  {
   "cell_type": "markdown",
   "id": "74f3ff16",
   "metadata": {},
   "source": [
    "We can see some training and test predicted values fall close to the actual, but there is a clearly defined pattern indicating the model is not capturing the trend. "
   ]
  },
  {
   "cell_type": "code",
   "execution_count": 80,
   "id": "6072f53f",
   "metadata": {},
   "outputs": [
    {
     "name": "stdout",
     "output_type": "stream",
     "text": [
      "MAE on Test Data 0.035385834724065986\n",
      "MAE on Training Data 0.03449414175840214\n",
      "MSE on Test Data 0.007251884792887348\n",
      "MSE on Training Data 0.005967732441310236\n",
      "RMSE on Test Data 0.0851579989953225\n",
      "RMSE on Training Data 0.07725109993592477\n"
     ]
    }
   ],
   "source": [
    "from sklearn import metrics\n",
    "import numpy as np\n",
    "print('MAE on Test Data',metrics.mean_absolute_error(y_test, y_test_pred))\n",
    "print('MAE on Training Data',metrics.mean_absolute_error(y_train, y_train_pred))\n",
    "\n",
    "print('MSE on Test Data',metrics.mean_squared_error(y_test, y_test_pred))\n",
    "print('MSE on Training Data',metrics.mean_squared_error(y_train, y_train_pred))\n",
    "\n",
    "\n",
    "print('RMSE on Test Data',np.sqrt(metrics.mean_squared_error(y_test, y_test_pred)))\n",
    "print('RMSE on Training Data',np.sqrt(metrics.mean_squared_error(y_train, y_train_pred)))"
   ]
  },
  {
   "cell_type": "code",
   "execution_count": 81,
   "id": "25bba12c",
   "metadata": {},
   "outputs": [
    {
     "data": {
      "text/plain": [
       "0.003704824010572824"
      ]
     },
     "execution_count": 81,
     "metadata": {},
     "output_type": "execute_result"
    }
   ],
   "source": [
    "metrics.mean_absolute_error(y_train, y_train_pred)/salesT1Trans[\"LogRevenue\"].mean()"
   ]
  },
  {
   "cell_type": "markdown",
   "id": "c8163a7a",
   "metadata": {},
   "source": [
    "Metrics indicate there is a clear improvement in the model with an increased R squared and lower average error percentage."
   ]
  },
  {
   "cell_type": "markdown",
   "id": "5e38a23e",
   "metadata": {},
   "source": [
    "# Conclusion"
   ]
  },
  {
   "cell_type": "markdown",
   "id": "637253c3",
   "metadata": {},
   "source": [
    "Revenue could be projected for Tier II customers with multiple linear regression fairly accurately and should be considered. Other models should be considered when projecting revenue for Tier I because the feature variables do not have a linear relationship with the target variable. In addition, the complexity introduced with the transformed variables makes it more difficult to interpret to coefficients."
   ]
  },
  {
   "cell_type": "code",
   "execution_count": null,
   "id": "472484d5",
   "metadata": {},
   "outputs": [],
   "source": []
  }
 ],
 "metadata": {
  "kernelspec": {
   "display_name": "Python 3 (ipykernel)",
   "language": "python",
   "name": "python3"
  },
  "language_info": {
   "codemirror_mode": {
    "name": "ipython",
    "version": 3
   },
   "file_extension": ".py",
   "mimetype": "text/x-python",
   "name": "python",
   "nbconvert_exporter": "python",
   "pygments_lexer": "ipython3",
   "version": "3.9.12"
  }
 },
 "nbformat": 4,
 "nbformat_minor": 5
}
